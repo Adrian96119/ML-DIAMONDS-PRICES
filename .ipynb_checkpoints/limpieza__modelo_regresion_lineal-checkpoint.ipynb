{
 "cells": [
  {
   "cell_type": "code",
   "execution_count": 1,
   "metadata": {},
   "outputs": [],
   "source": [
    "import pandas as pd\n",
    "import matplotlib.pyplot as plt\n",
    "import seaborn as sns"
   ]
  },
  {
   "cell_type": "code",
   "execution_count": 2,
   "metadata": {},
   "outputs": [],
   "source": [
    "train = pd.read_csv(\"./train.csv\")\n",
    "predict = pd.read_csv(\"./predict.csv\")\n",
    "sample_submission = pd.read_csv(\"./predict.csv\")\n"
   ]
  },
  {
   "cell_type": "markdown",
   "metadata": {},
   "source": [
    "## MODELO DE REGRESION LINEAL"
   ]
  },
  {
   "cell_type": "markdown",
   "metadata": {},
   "source": [
    "**PRIMERO VAMOS A EXAMINAR LOS DATOS QUE TENEMOS EN NUESTRO DATASET**"
   ]
  },
  {
   "cell_type": "code",
   "execution_count": 3,
   "metadata": {},
   "outputs": [
    {
     "name": "stdout",
     "output_type": "stream",
     "text": [
      "<class 'pandas.core.frame.DataFrame'>\n",
      "RangeIndex: 40455 entries, 0 to 40454\n",
      "Data columns (total 11 columns):\n",
      " #   Column   Non-Null Count  Dtype  \n",
      "---  ------   --------------  -----  \n",
      " 0   id       40455 non-null  int64  \n",
      " 1   carat    40455 non-null  float64\n",
      " 2   cut      40455 non-null  object \n",
      " 3   color    40455 non-null  object \n",
      " 4   clarity  40455 non-null  object \n",
      " 5   depth    40455 non-null  float64\n",
      " 6   table    40455 non-null  float64\n",
      " 7   x        40455 non-null  float64\n",
      " 8   y        40455 non-null  float64\n",
      " 9   z        40455 non-null  float64\n",
      " 10  price    40455 non-null  int64  \n",
      "dtypes: float64(6), int64(2), object(3)\n",
      "memory usage: 3.4+ MB\n"
     ]
    }
   ],
   "source": [
    "train.info() #comprobamos que nuestras columnas tienen el tipo que les corresponde."
   ]
  },
  {
   "cell_type": "markdown",
   "metadata": {},
   "source": [
    "**COMO VAMOS A TRABAJAR CON REGRESION LINEAL PARA ESTE MODELO, NO NECESITAMOS LAS COLUMNAS CATEGORICAS ASIQUE LAS ELIMINAMOS.**"
   ]
  },
  {
   "cell_type": "code",
   "execution_count": 4,
   "metadata": {},
   "outputs": [],
   "source": [
    "train.drop([\"cut\",\"color\",\"clarity\"],axis=1,inplace = True)"
   ]
  },
  {
   "cell_type": "code",
   "execution_count": 5,
   "metadata": {},
   "outputs": [],
   "source": [
    "#No vamos a necesitar tampoco la columna de id, ya que no nos sirve para hacer nuestras predicciones.\n",
    "train.drop(\"id\",axis= 1,inplace=True)"
   ]
  },
  {
   "cell_type": "markdown",
   "metadata": {},
   "source": [
    "**VAMOS A COMPROBAR SI HAY ALGUN VALOR NULO EN LA TABLA**"
   ]
  },
  {
   "cell_type": "code",
   "execution_count": 6,
   "metadata": {},
   "outputs": [
    {
     "data": {
      "text/plain": [
       "carat    0\n",
       "depth    0\n",
       "table    0\n",
       "x        0\n",
       "y        0\n",
       "z        0\n",
       "price    0\n",
       "dtype: int64"
      ]
     },
     "execution_count": 6,
     "metadata": {},
     "output_type": "execute_result"
    }
   ],
   "source": [
    "train.isnull().sum() #comprobamos que no."
   ]
  },
  {
   "cell_type": "code",
   "execution_count": 7,
   "metadata": {},
   "outputs": [],
   "source": [
    "#vamos a renombrar las columnas a mi estilo, para que me entienda mejor con ellas.\n",
    "train.rename(columns={'carat': 'quilates','depth':'porcentaje profundidad','table': 'ancho superior','x':'longitud mm','y':'ancho mm','z':'profundidad mm'}, inplace=True)"
   ]
  },
  {
   "cell_type": "markdown",
   "metadata": {},
   "source": [
    "**como ya tenemos una variable que nos indica la profundidad en mm de los diamantes, veo irrelevante conservar el porcentaje \n",
    "de profundidad que creo que no nos va a resultar muy util a la hora de acertar mas o menos con las predicciones de los precios.\n",
    "Asique vamos a eliminarla también.**"
   ]
  },
  {
   "cell_type": "code",
   "execution_count": null,
   "metadata": {},
   "outputs": [],
   "source": []
  },
  {
   "cell_type": "code",
   "execution_count": 8,
   "metadata": {},
   "outputs": [
    {
     "data": {
      "text/html": [
       "<div>\n",
       "<style scoped>\n",
       "    .dataframe tbody tr th:only-of-type {\n",
       "        vertical-align: middle;\n",
       "    }\n",
       "\n",
       "    .dataframe tbody tr th {\n",
       "        vertical-align: top;\n",
       "    }\n",
       "\n",
       "    .dataframe thead th {\n",
       "        text-align: right;\n",
       "    }\n",
       "</style>\n",
       "<table border=\"1\" class=\"dataframe\">\n",
       "  <thead>\n",
       "    <tr style=\"text-align: right;\">\n",
       "      <th></th>\n",
       "      <th>quilates</th>\n",
       "      <th>porcentaje profundidad</th>\n",
       "      <th>ancho superior</th>\n",
       "      <th>longitud mm</th>\n",
       "      <th>ancho mm</th>\n",
       "      <th>profundidad mm</th>\n",
       "      <th>price</th>\n",
       "    </tr>\n",
       "  </thead>\n",
       "  <tbody>\n",
       "    <tr>\n",
       "      <th>count</th>\n",
       "      <td>40455.000000</td>\n",
       "      <td>40455.000000</td>\n",
       "      <td>40455.000000</td>\n",
       "      <td>40455.000000</td>\n",
       "      <td>40455.000000</td>\n",
       "      <td>40455.000000</td>\n",
       "      <td>40455.000000</td>\n",
       "    </tr>\n",
       "    <tr>\n",
       "      <th>mean</th>\n",
       "      <td>0.800571</td>\n",
       "      <td>61.749675</td>\n",
       "      <td>57.462820</td>\n",
       "      <td>5.737267</td>\n",
       "      <td>5.741070</td>\n",
       "      <td>3.541966</td>\n",
       "      <td>3956.020517</td>\n",
       "    </tr>\n",
       "    <tr>\n",
       "      <th>std</th>\n",
       "      <td>0.475258</td>\n",
       "      <td>1.433896</td>\n",
       "      <td>2.243808</td>\n",
       "      <td>1.123680</td>\n",
       "      <td>1.153677</td>\n",
       "      <td>0.696327</td>\n",
       "      <td>4009.646467</td>\n",
       "    </tr>\n",
       "    <tr>\n",
       "      <th>min</th>\n",
       "      <td>0.200000</td>\n",
       "      <td>43.000000</td>\n",
       "      <td>43.000000</td>\n",
       "      <td>0.000000</td>\n",
       "      <td>0.000000</td>\n",
       "      <td>0.000000</td>\n",
       "      <td>326.000000</td>\n",
       "    </tr>\n",
       "    <tr>\n",
       "      <th>25%</th>\n",
       "      <td>0.400000</td>\n",
       "      <td>61.000000</td>\n",
       "      <td>56.000000</td>\n",
       "      <td>4.720000</td>\n",
       "      <td>4.730000</td>\n",
       "      <td>2.910000</td>\n",
       "      <td>954.000000</td>\n",
       "    </tr>\n",
       "    <tr>\n",
       "      <th>50%</th>\n",
       "      <td>0.700000</td>\n",
       "      <td>61.800000</td>\n",
       "      <td>57.000000</td>\n",
       "      <td>5.700000</td>\n",
       "      <td>5.710000</td>\n",
       "      <td>3.530000</td>\n",
       "      <td>2428.000000</td>\n",
       "    </tr>\n",
       "    <tr>\n",
       "      <th>75%</th>\n",
       "      <td>1.050000</td>\n",
       "      <td>62.500000</td>\n",
       "      <td>59.000000</td>\n",
       "      <td>6.540000</td>\n",
       "      <td>6.540000</td>\n",
       "      <td>4.040000</td>\n",
       "      <td>5362.500000</td>\n",
       "    </tr>\n",
       "    <tr>\n",
       "      <th>max</th>\n",
       "      <td>5.010000</td>\n",
       "      <td>79.000000</td>\n",
       "      <td>95.000000</td>\n",
       "      <td>10.740000</td>\n",
       "      <td>58.900000</td>\n",
       "      <td>8.060000</td>\n",
       "      <td>18818.000000</td>\n",
       "    </tr>\n",
       "  </tbody>\n",
       "</table>\n",
       "</div>"
      ],
      "text/plain": [
       "           quilates  porcentaje profundidad  ancho superior   longitud mm  \\\n",
       "count  40455.000000            40455.000000    40455.000000  40455.000000   \n",
       "mean       0.800571               61.749675       57.462820      5.737267   \n",
       "std        0.475258                1.433896        2.243808      1.123680   \n",
       "min        0.200000               43.000000       43.000000      0.000000   \n",
       "25%        0.400000               61.000000       56.000000      4.720000   \n",
       "50%        0.700000               61.800000       57.000000      5.700000   \n",
       "75%        1.050000               62.500000       59.000000      6.540000   \n",
       "max        5.010000               79.000000       95.000000     10.740000   \n",
       "\n",
       "           ancho mm  profundidad mm         price  \n",
       "count  40455.000000    40455.000000  40455.000000  \n",
       "mean       5.741070        3.541966   3956.020517  \n",
       "std        1.153677        0.696327   4009.646467  \n",
       "min        0.000000        0.000000    326.000000  \n",
       "25%        4.730000        2.910000    954.000000  \n",
       "50%        5.710000        3.530000   2428.000000  \n",
       "75%        6.540000        4.040000   5362.500000  \n",
       "max       58.900000        8.060000  18818.000000  "
      ]
     },
     "execution_count": 8,
     "metadata": {},
     "output_type": "execute_result"
    }
   ],
   "source": [
    "train.describe() #vamos a observar ahora los datos que tenemos y, vemos que\n",
    "#tenemos valores de 0 en la columna de longitud, ancho y profundidad."
   ]
  },
  {
   "cell_type": "code",
   "execution_count": 10,
   "metadata": {},
   "outputs": [],
   "source": [
    "ceros_longitud = train[train[\"longitud mm\"]==0]"
   ]
  },
  {
   "cell_type": "code",
   "execution_count": 11,
   "metadata": {},
   "outputs": [
    {
     "data": {
      "text/html": [
       "<div>\n",
       "<style scoped>\n",
       "    .dataframe tbody tr th:only-of-type {\n",
       "        vertical-align: middle;\n",
       "    }\n",
       "\n",
       "    .dataframe tbody tr th {\n",
       "        vertical-align: top;\n",
       "    }\n",
       "\n",
       "    .dataframe thead th {\n",
       "        text-align: right;\n",
       "    }\n",
       "</style>\n",
       "<table border=\"1\" class=\"dataframe\">\n",
       "  <thead>\n",
       "    <tr style=\"text-align: right;\">\n",
       "      <th></th>\n",
       "      <th>quilates</th>\n",
       "      <th>porcentaje profundidad</th>\n",
       "      <th>ancho superior</th>\n",
       "      <th>longitud mm</th>\n",
       "      <th>ancho mm</th>\n",
       "      <th>profundidad mm</th>\n",
       "      <th>price</th>\n",
       "    </tr>\n",
       "  </thead>\n",
       "  <tbody>\n",
       "    <tr>\n",
       "      <th>2365</th>\n",
       "      <td>0.71</td>\n",
       "      <td>64.1</td>\n",
       "      <td>60.0</td>\n",
       "      <td>0.0</td>\n",
       "      <td>0.0</td>\n",
       "      <td>0.0</td>\n",
       "      <td>2130</td>\n",
       "    </tr>\n",
       "    <tr>\n",
       "      <th>2572</th>\n",
       "      <td>1.56</td>\n",
       "      <td>62.2</td>\n",
       "      <td>54.0</td>\n",
       "      <td>0.0</td>\n",
       "      <td>0.0</td>\n",
       "      <td>0.0</td>\n",
       "      <td>12800</td>\n",
       "    </tr>\n",
       "    <tr>\n",
       "      <th>3276</th>\n",
       "      <td>1.00</td>\n",
       "      <td>63.3</td>\n",
       "      <td>53.0</td>\n",
       "      <td>0.0</td>\n",
       "      <td>0.0</td>\n",
       "      <td>0.0</td>\n",
       "      <td>5139</td>\n",
       "    </tr>\n",
       "    <tr>\n",
       "      <th>23323</th>\n",
       "      <td>1.20</td>\n",
       "      <td>62.1</td>\n",
       "      <td>59.0</td>\n",
       "      <td>0.0</td>\n",
       "      <td>0.0</td>\n",
       "      <td>0.0</td>\n",
       "      <td>15686</td>\n",
       "    </tr>\n",
       "    <tr>\n",
       "      <th>29257</th>\n",
       "      <td>1.14</td>\n",
       "      <td>57.5</td>\n",
       "      <td>67.0</td>\n",
       "      <td>0.0</td>\n",
       "      <td>0.0</td>\n",
       "      <td>0.0</td>\n",
       "      <td>6381</td>\n",
       "    </tr>\n",
       "    <tr>\n",
       "      <th>30240</th>\n",
       "      <td>0.71</td>\n",
       "      <td>64.1</td>\n",
       "      <td>60.0</td>\n",
       "      <td>0.0</td>\n",
       "      <td>0.0</td>\n",
       "      <td>0.0</td>\n",
       "      <td>2130</td>\n",
       "    </tr>\n",
       "  </tbody>\n",
       "</table>\n",
       "</div>"
      ],
      "text/plain": [
       "       quilates  porcentaje profundidad  ancho superior  longitud mm  \\\n",
       "2365       0.71                    64.1            60.0          0.0   \n",
       "2572       1.56                    62.2            54.0          0.0   \n",
       "3276       1.00                    63.3            53.0          0.0   \n",
       "23323      1.20                    62.1            59.0          0.0   \n",
       "29257      1.14                    57.5            67.0          0.0   \n",
       "30240      0.71                    64.1            60.0          0.0   \n",
       "\n",
       "       ancho mm  profundidad mm  price  \n",
       "2365        0.0             0.0   2130  \n",
       "2572        0.0             0.0  12800  \n",
       "3276        0.0             0.0   5139  \n",
       "23323       0.0             0.0  15686  \n",
       "29257       0.0             0.0   6381  \n",
       "30240       0.0             0.0   2130  "
      ]
     },
     "execution_count": 11,
     "metadata": {},
     "output_type": "execute_result"
    }
   ],
   "source": [
    "ceros_longitud #parece ser que tanto la longitud, el ancho y la profundidad en estos diamantes no existe... raro\n"
   ]
  },
  {
   "cell_type": "code",
   "execution_count": 12,
   "metadata": {},
   "outputs": [],
   "source": [
    "import numpy as np"
   ]
  },
  {
   "cell_type": "code",
   "execution_count": 13,
   "metadata": {},
   "outputs": [],
   "source": [
    "X_quilates = train[\"quilates\"]\n",
    "X_price = train[\"price\"]\n",
    "X_anchoSuperior = train[\"ancho superior\"]"
   ]
  },
  {
   "cell_type": "code",
   "execution_count": 14,
   "metadata": {},
   "outputs": [],
   "source": [
    "y_profundidad = train[\"profundidad mm\"]"
   ]
  },
  {
   "cell_type": "code",
   "execution_count": 15,
   "metadata": {},
   "outputs": [],
   "source": [
    "y_longitud =train[\"longitud mm\"]"
   ]
  },
  {
   "cell_type": "code",
   "execution_count": 16,
   "metadata": {},
   "outputs": [],
   "source": [
    "y_ancho = train[\"ancho mm\"]"
   ]
  },
  {
   "cell_type": "code",
   "execution_count": 17,
   "metadata": {},
   "outputs": [],
   "source": [
    "profundidad_mm = np.corrcoef(X_quilates,y_profundidad)\n",
    "ancho_mm =  np.corrcoef(X_quilates,y_ancho)\n",
    "longitud_mm = np.corrcoef(X_quilates,y_longitud) #vamos a comparar la correlacion entre la variable quilates y las otras\n",
    "#y si hay correlacion entre ellas, podemos predecir los datos que faltan."
   ]
  },
  {
   "cell_type": "code",
   "execution_count": 18,
   "metadata": {},
   "outputs": [
    {
     "name": "stdout",
     "output_type": "stream",
     "text": [
      "[[1.         0.96796767]\n",
      " [0.96796767 1.        ]]\n",
      "[[1.         0.94484342]\n",
      " [0.94484342 1.        ]]\n",
      "[[1.         0.97553787]\n",
      " [0.97553787 1.        ]]\n"
     ]
    }
   ],
   "source": [
    "print(profundidad_mm)\n",
    "print(ancho_mm)\n",
    "print(longitud_mm)  #vemos que si."
   ]
  },
  {
   "cell_type": "code",
   "execution_count": 19,
   "metadata": {},
   "outputs": [
    {
     "name": "stdout",
     "output_type": "stream",
     "text": [
      "[[1.         0.87391263]\n",
      " [0.87391263 1.        ]]\n",
      "[[1.         0.85906172]\n",
      " [0.85906172 1.        ]]\n",
      "[[1.         0.88486248]\n",
      " [0.88486248 1.        ]]\n"
     ]
    }
   ],
   "source": [
    "#ahora vamos a compararlas en funcion del precio.\n",
    "profundidad_precio = np.corrcoef(X_price,y_profundidad)\n",
    "ancho_precio=  np.corrcoef(X_price,y_ancho)\n",
    "longitud_precio = np.corrcoef(X_price,y_longitud)\n",
    "print(profundidad_precio)\n",
    "print(ancho_precio)\n",
    "print(longitud_precio) #vemos que tambien hay una buena relacion entre todas."
   ]
  },
  {
   "cell_type": "code",
   "execution_count": 20,
   "metadata": {},
   "outputs": [
    {
     "name": "stdout",
     "output_type": "stream",
     "text": [
      "[[1.         0.92177646]\n",
      " [0.92177646 1.        ]]\n",
      "[[1.         0.18326788]\n",
      " [0.18326788 1.        ]]\n"
     ]
    }
   ],
   "source": [
    "print(np.corrcoef(X_quilates,X_price)) #que pasa que entre quilates y precio hay mucha correlacion, y no podemos hacer regresion\n",
    "#con cada una de las variables de profundidad, anchura y longitud, asique meteremos la columna de ancho superior que con \n",
    "#la variable quilates apenas tienen.\n",
    "print(np.corrcoef(X_quilates,X_anchoSuperior))\n",
    "\n",
    "#cogemos dos variables porque con una no nos deja entrenar el modelo."
   ]
  },
  {
   "cell_type": "markdown",
   "metadata": {},
   "source": [
    "vemos que estan correlacionadas todas, con la variable quilates y con el precio, asique procedemos a hacer unas predicciones con el \n",
    "modelo de regresion lineal de sklearn"
   ]
  },
  {
   "cell_type": "code",
   "execution_count": 21,
   "metadata": {},
   "outputs": [],
   "source": [
    "from sklearn.linear_model import LinearRegression\n",
    "from sklearn.model_selection import train_test_split"
   ]
  },
  {
   "cell_type": "markdown",
   "metadata": {},
   "source": [
    "**prediccion valor 0 en profundidad**"
   ]
  },
  {
   "cell_type": "code",
   "execution_count": 22,
   "metadata": {},
   "outputs": [],
   "source": [
    "lr_profundidad = LinearRegression()"
   ]
  },
  {
   "cell_type": "code",
   "execution_count": 23,
   "metadata": {},
   "outputs": [],
   "source": [
    "X_train, X_test, y_train, y_test = train_test_split(train[[\"quilates\",\"ancho superior\"]],train[\"profundidad mm\"],train_size =0.8,test_size = 0.2)"
   ]
  },
  {
   "cell_type": "code",
   "execution_count": 24,
   "metadata": {},
   "outputs": [],
   "source": [
    "modelo_profundidad = lr_profundidad.fit(X_train,y_train)\n",
    "y_pred_profts = modelo_profundidad.predict(X_test) #predecimos la prueba\n",
    "y_pred_proftr =modelo_profundidad.predict(X_train) #predecimos el entrenamiento"
   ]
  },
  {
   "cell_type": "code",
   "execution_count": 25,
   "metadata": {},
   "outputs": [],
   "source": [
    "profundidad_predicha_ts = pd.DataFrame({\"real\":y_test,\"pred\":y_pred_profts})\n",
    "profundidad_predicha_tr = pd.DataFrame({\"real\":y_train,\"pred\":y_pred_proftr})"
   ]
  },
  {
   "cell_type": "code",
   "execution_count": 37,
   "metadata": {},
   "outputs": [
    {
     "name": "stdout",
     "output_type": "stream",
     "text": [
      "real    0.000000\n",
      "pred    3.396999\n",
      "Name: 2365, dtype: float64\n",
      "-----\n",
      "real    0.000000\n",
      "pred    4.643673\n",
      "Name: 2572, dtype: float64\n",
      "-----\n",
      "real    0.000000\n",
      "pred    3.854024\n",
      "Name: 3276, dtype: float64\n",
      "-----\n",
      "real    0.000000\n",
      "pred    4.099938\n",
      "Name: 23323, dtype: float64\n",
      "------\n",
      "real    0.000000\n",
      "pred    3.963463\n",
      "Name: 29257, dtype: float64\n",
      "--------\n",
      "real    0.000000\n",
      "pred    3.396999\n",
      "Name: 30240, dtype: float64\n"
     ]
    }
   ],
   "source": [
    "#cogemos de una variable y de otra porque es donde se encontraban nuestras filas.\n",
    "\n",
    "print(profundidad_predicha_tr.loc[2365])\n",
    "print(\"-----\")\n",
    "print(profundidad_predicha_tr.loc[2572])\n",
    "print(\"-----\")\n",
    "print(profundidad_predicha_tr.loc[3276])\n",
    "print(\"-----\")\n",
    "print(profundidad_predicha_tr.loc[23323])\n",
    "print(\"------\")\n",
    "print(profundidad_predicha_ts.loc[29257])\n",
    "print(\"--------\")\n",
    "print(profundidad_predicha_tr.loc[30240])\n",
    "\n",
    "#ya tenemos nuestros valores razonables, asique los vamos a pasar a nuestros datos."
   ]
  },
  {
   "cell_type": "markdown",
   "metadata": {},
   "source": [
    "**creamos una funcion para insertar valores en las filas de las columnas que queramos**"
   ]
  },
  {
   "cell_type": "code",
   "execution_count": 49,
   "metadata": {},
   "outputs": [
    {
     "data": {
      "text/plain": [
       "3.396999"
      ]
     },
     "execution_count": 49,
     "metadata": {},
     "output_type": "execute_result"
    }
   ],
   "source": [
    "def insertar_valor(columna,fila,valor):\n",
    "    train[columna].loc[fila]= valor\n",
    "    return train[columna].loc[fila]\n",
    "\n",
    "\n",
    "\n",
    "\n",
    "insertar_valor(\"profundidad mm\",30240, 3.396999)"
   ]
  },
  {
   "cell_type": "code",
   "execution_count": 50,
   "metadata": {},
   "outputs": [],
   "source": [
    "ceros_longitud = train[train[\"longitud mm\"]==0]"
   ]
  },
  {
   "cell_type": "code",
   "execution_count": 52,
   "metadata": {},
   "outputs": [
    {
     "data": {
      "text/html": [
       "<div>\n",
       "<style scoped>\n",
       "    .dataframe tbody tr th:only-of-type {\n",
       "        vertical-align: middle;\n",
       "    }\n",
       "\n",
       "    .dataframe tbody tr th {\n",
       "        vertical-align: top;\n",
       "    }\n",
       "\n",
       "    .dataframe thead th {\n",
       "        text-align: right;\n",
       "    }\n",
       "</style>\n",
       "<table border=\"1\" class=\"dataframe\">\n",
       "  <thead>\n",
       "    <tr style=\"text-align: right;\">\n",
       "      <th></th>\n",
       "      <th>quilates</th>\n",
       "      <th>porcentaje profundidad</th>\n",
       "      <th>ancho superior</th>\n",
       "      <th>longitud mm</th>\n",
       "      <th>ancho mm</th>\n",
       "      <th>profundidad mm</th>\n",
       "      <th>price</th>\n",
       "    </tr>\n",
       "  </thead>\n",
       "  <tbody>\n",
       "    <tr>\n",
       "      <th>2365</th>\n",
       "      <td>0.71</td>\n",
       "      <td>64.1</td>\n",
       "      <td>60.0</td>\n",
       "      <td>0.0</td>\n",
       "      <td>0.0</td>\n",
       "      <td>3.396999</td>\n",
       "      <td>2130</td>\n",
       "    </tr>\n",
       "    <tr>\n",
       "      <th>2572</th>\n",
       "      <td>1.56</td>\n",
       "      <td>62.2</td>\n",
       "      <td>54.0</td>\n",
       "      <td>0.0</td>\n",
       "      <td>0.0</td>\n",
       "      <td>4.643673</td>\n",
       "      <td>12800</td>\n",
       "    </tr>\n",
       "    <tr>\n",
       "      <th>3276</th>\n",
       "      <td>1.00</td>\n",
       "      <td>63.3</td>\n",
       "      <td>53.0</td>\n",
       "      <td>0.0</td>\n",
       "      <td>0.0</td>\n",
       "      <td>3.854024</td>\n",
       "      <td>5139</td>\n",
       "    </tr>\n",
       "    <tr>\n",
       "      <th>23323</th>\n",
       "      <td>1.20</td>\n",
       "      <td>62.1</td>\n",
       "      <td>59.0</td>\n",
       "      <td>0.0</td>\n",
       "      <td>0.0</td>\n",
       "      <td>4.099938</td>\n",
       "      <td>15686</td>\n",
       "    </tr>\n",
       "    <tr>\n",
       "      <th>29257</th>\n",
       "      <td>1.14</td>\n",
       "      <td>57.5</td>\n",
       "      <td>67.0</td>\n",
       "      <td>0.0</td>\n",
       "      <td>0.0</td>\n",
       "      <td>3.963463</td>\n",
       "      <td>6381</td>\n",
       "    </tr>\n",
       "    <tr>\n",
       "      <th>30240</th>\n",
       "      <td>0.71</td>\n",
       "      <td>64.1</td>\n",
       "      <td>60.0</td>\n",
       "      <td>0.0</td>\n",
       "      <td>0.0</td>\n",
       "      <td>3.396999</td>\n",
       "      <td>2130</td>\n",
       "    </tr>\n",
       "  </tbody>\n",
       "</table>\n",
       "</div>"
      ],
      "text/plain": [
       "       quilates  porcentaje profundidad  ancho superior  longitud mm  \\\n",
       "2365       0.71                    64.1            60.0          0.0   \n",
       "2572       1.56                    62.2            54.0          0.0   \n",
       "3276       1.00                    63.3            53.0          0.0   \n",
       "23323      1.20                    62.1            59.0          0.0   \n",
       "29257      1.14                    57.5            67.0          0.0   \n",
       "30240      0.71                    64.1            60.0          0.0   \n",
       "\n",
       "       ancho mm  profundidad mm  price  \n",
       "2365        0.0        3.396999   2130  \n",
       "2572        0.0        4.643673  12800  \n",
       "3276        0.0        3.854024   5139  \n",
       "23323       0.0        4.099938  15686  \n",
       "29257       0.0        3.963463   6381  \n",
       "30240       0.0        3.396999   2130  "
      ]
     },
     "execution_count": 52,
     "metadata": {},
     "output_type": "execute_result"
    }
   ],
   "source": [
    "ceros_longitud #comprobamos que se añadieron los valores predichos en profundidad."
   ]
  },
  {
   "cell_type": "code",
   "execution_count": 37,
   "metadata": {},
   "outputs": [],
   "source": []
  },
  {
   "cell_type": "markdown",
   "metadata": {},
   "source": [
    "**PREDICCION ANCHO**"
   ]
  },
  {
   "cell_type": "code",
   "execution_count": 53,
   "metadata": {},
   "outputs": [],
   "source": [
    "X_train, X_test, y_train, y_test = train_test_split(train[[\"quilates\",\"ancho superior\"]],train[\"ancho mm\"],train_size =0.8,test_size = 0.2,random_state = 42)"
   ]
  },
  {
   "cell_type": "code",
   "execution_count": 54,
   "metadata": {},
   "outputs": [],
   "source": [
    "lr_ancho = LinearRegression()"
   ]
  },
  {
   "cell_type": "code",
   "execution_count": 55,
   "metadata": {},
   "outputs": [],
   "source": [
    "model_ancho = lr_ancho.fit(X_train,y_train)"
   ]
  },
  {
   "cell_type": "code",
   "execution_count": 56,
   "metadata": {},
   "outputs": [],
   "source": [
    "pred_anchotr = model_ancho.predict(X_train) #prediccion entrenamiento\n",
    "pred_anchots = model_ancho.predict(X_test) #prediccion prueba"
   ]
  },
  {
   "cell_type": "code",
   "execution_count": 57,
   "metadata": {},
   "outputs": [],
   "source": [
    "ancho_predicha_tr = pd.DataFrame({\"real\":y_train,\"pred\":pred_anchotr})\n",
    "ancho_predicha_ts = pd.DataFrame({\"real\":y_test,\"pred\":pred_anchots})"
   ]
  },
  {
   "cell_type": "code",
   "execution_count": 58,
   "metadata": {},
   "outputs": [
    {
     "name": "stdout",
     "output_type": "stream",
     "text": [
      "real    0.000000\n",
      "pred    5.548565\n",
      "Name: 2365, dtype: float64\n",
      "-----\n",
      "real    0.000000\n",
      "pred    7.462142\n",
      "Name: 2572, dtype: float64\n",
      "-----\n",
      "real    0.000000\n",
      "pred    6.172931\n",
      "Name: 3276, dtype: float64\n",
      "-----\n",
      "real    0.000000\n",
      "pred    6.665835\n",
      "Name: 23323, dtype: float64\n",
      "------\n",
      "real    0.000000\n",
      "pred    6.574357\n",
      "Name: 29257, dtype: float64\n",
      "--------\n",
      "real    0.000000\n",
      "pred    5.548565\n",
      "Name: 30240, dtype: float64\n"
     ]
    }
   ],
   "source": [
    "print(ancho_predicha_tr.loc[2365])\n",
    "print(\"-----\")\n",
    "print(ancho_predicha_tr.loc[2572])\n",
    "print(\"-----\")\n",
    "print(ancho_predicha_tr.loc[3276])\n",
    "print(\"-----\")\n",
    "print(ancho_predicha_tr.loc[23323])\n",
    "print(\"------\")\n",
    "print(ancho_predicha_tr.loc[29257])\n",
    "print(\"--------\")\n",
    "print(ancho_predicha_tr.loc[30240])\n",
    "#lo  mismo que con la profundidad"
   ]
  },
  {
   "cell_type": "code",
   "execution_count": 64,
   "metadata": {},
   "outputs": [
    {
     "data": {
      "text/plain": [
       "5.548565"
      ]
     },
     "execution_count": 64,
     "metadata": {},
     "output_type": "execute_result"
    }
   ],
   "source": [
    "insertar_valor(\"ancho mm\",30240, 5.548565)"
   ]
  },
  {
   "cell_type": "code",
   "execution_count": 65,
   "metadata": {},
   "outputs": [],
   "source": [
    "ceros_longitud = train[train[\"longitud mm\"]==0]"
   ]
  },
  {
   "cell_type": "code",
   "execution_count": 66,
   "metadata": {},
   "outputs": [
    {
     "data": {
      "text/html": [
       "<div>\n",
       "<style scoped>\n",
       "    .dataframe tbody tr th:only-of-type {\n",
       "        vertical-align: middle;\n",
       "    }\n",
       "\n",
       "    .dataframe tbody tr th {\n",
       "        vertical-align: top;\n",
       "    }\n",
       "\n",
       "    .dataframe thead th {\n",
       "        text-align: right;\n",
       "    }\n",
       "</style>\n",
       "<table border=\"1\" class=\"dataframe\">\n",
       "  <thead>\n",
       "    <tr style=\"text-align: right;\">\n",
       "      <th></th>\n",
       "      <th>quilates</th>\n",
       "      <th>porcentaje profundidad</th>\n",
       "      <th>ancho superior</th>\n",
       "      <th>longitud mm</th>\n",
       "      <th>ancho mm</th>\n",
       "      <th>profundidad mm</th>\n",
       "      <th>price</th>\n",
       "    </tr>\n",
       "  </thead>\n",
       "  <tbody>\n",
       "    <tr>\n",
       "      <th>2365</th>\n",
       "      <td>0.71</td>\n",
       "      <td>64.1</td>\n",
       "      <td>60.0</td>\n",
       "      <td>0.0</td>\n",
       "      <td>5.548565</td>\n",
       "      <td>3.396999</td>\n",
       "      <td>2130</td>\n",
       "    </tr>\n",
       "    <tr>\n",
       "      <th>2572</th>\n",
       "      <td>1.56</td>\n",
       "      <td>62.2</td>\n",
       "      <td>54.0</td>\n",
       "      <td>0.0</td>\n",
       "      <td>7.462142</td>\n",
       "      <td>4.643673</td>\n",
       "      <td>12800</td>\n",
       "    </tr>\n",
       "    <tr>\n",
       "      <th>3276</th>\n",
       "      <td>1.00</td>\n",
       "      <td>63.3</td>\n",
       "      <td>53.0</td>\n",
       "      <td>0.0</td>\n",
       "      <td>6.172931</td>\n",
       "      <td>3.854024</td>\n",
       "      <td>5139</td>\n",
       "    </tr>\n",
       "    <tr>\n",
       "      <th>23323</th>\n",
       "      <td>1.20</td>\n",
       "      <td>62.1</td>\n",
       "      <td>59.0</td>\n",
       "      <td>0.0</td>\n",
       "      <td>6.665835</td>\n",
       "      <td>4.099938</td>\n",
       "      <td>15686</td>\n",
       "    </tr>\n",
       "    <tr>\n",
       "      <th>29257</th>\n",
       "      <td>1.14</td>\n",
       "      <td>57.5</td>\n",
       "      <td>67.0</td>\n",
       "      <td>0.0</td>\n",
       "      <td>6.574357</td>\n",
       "      <td>3.963463</td>\n",
       "      <td>6381</td>\n",
       "    </tr>\n",
       "    <tr>\n",
       "      <th>30240</th>\n",
       "      <td>0.71</td>\n",
       "      <td>64.1</td>\n",
       "      <td>60.0</td>\n",
       "      <td>0.0</td>\n",
       "      <td>5.548565</td>\n",
       "      <td>3.396999</td>\n",
       "      <td>2130</td>\n",
       "    </tr>\n",
       "  </tbody>\n",
       "</table>\n",
       "</div>"
      ],
      "text/plain": [
       "       quilates  porcentaje profundidad  ancho superior  longitud mm  \\\n",
       "2365       0.71                    64.1            60.0          0.0   \n",
       "2572       1.56                    62.2            54.0          0.0   \n",
       "3276       1.00                    63.3            53.0          0.0   \n",
       "23323      1.20                    62.1            59.0          0.0   \n",
       "29257      1.14                    57.5            67.0          0.0   \n",
       "30240      0.71                    64.1            60.0          0.0   \n",
       "\n",
       "       ancho mm  profundidad mm  price  \n",
       "2365   5.548565        3.396999   2130  \n",
       "2572   7.462142        4.643673  12800  \n",
       "3276   6.172931        3.854024   5139  \n",
       "23323  6.665835        4.099938  15686  \n",
       "29257  6.574357        3.963463   6381  \n",
       "30240  5.548565        3.396999   2130  "
      ]
     },
     "execution_count": 66,
     "metadata": {},
     "output_type": "execute_result"
    }
   ],
   "source": [
    "ceros_longitud #observamos que se han rellenado"
   ]
  },
  {
   "cell_type": "code",
   "execution_count": null,
   "metadata": {},
   "outputs": [],
   "source": []
  },
  {
   "cell_type": "markdown",
   "metadata": {},
   "source": [
    "**PREDICCION DE LA LONGITUD**"
   ]
  },
  {
   "cell_type": "code",
   "execution_count": 67,
   "metadata": {},
   "outputs": [],
   "source": [
    "X_train, X_test, y_train, y_test = train_test_split(train[[\"quilates\",\"ancho superior\"]],train[\"longitud mm\"],train_size =0.8,test_size = 0.2,random_state = 42)"
   ]
  },
  {
   "cell_type": "code",
   "execution_count": 68,
   "metadata": {},
   "outputs": [],
   "source": [
    "lr_longitud = LinearRegression()"
   ]
  },
  {
   "cell_type": "code",
   "execution_count": 69,
   "metadata": {},
   "outputs": [],
   "source": [
    "mode_longitud = lr_longitud.fit(X_train,y_train)\n"
   ]
  },
  {
   "cell_type": "code",
   "execution_count": 70,
   "metadata": {},
   "outputs": [],
   "source": [
    "pred_lontr = mode_longitud.predict(X_train) #prediccion entrenamiento\n",
    "pred_lonts = mode_longitud.predict(X_test) #prediccion prueba"
   ]
  },
  {
   "cell_type": "code",
   "execution_count": 71,
   "metadata": {},
   "outputs": [],
   "source": [
    "lon_predicha_tr = pd.DataFrame({\"real\":y_train,\"pred\":pred_lontr})\n",
    "lon_predicha_ts = pd.DataFrame({\"real\":y_test,\"pred\":pred_lonts})"
   ]
  },
  {
   "cell_type": "code",
   "execution_count": 72,
   "metadata": {},
   "outputs": [
    {
     "name": "stdout",
     "output_type": "stream",
     "text": [
      "real    0.000000\n",
      "pred    5.553067\n",
      "Name: 2365, dtype: float64\n",
      "-----\n",
      "real    0.00000\n",
      "pred    7.45036\n",
      "Name: 2572, dtype: float64\n",
      "-----\n",
      "real    0.000000\n",
      "pred    6.152919\n",
      "Name: 3276, dtype: float64\n",
      "-----\n",
      "real    0.000000\n",
      "pred    6.670362\n",
      "Name: 23323, dtype: float64\n",
      "------\n",
      "real    0.000000\n",
      "pred    6.609034\n",
      "Name: 29257, dtype: float64\n",
      "--------\n",
      "real    0.000000\n",
      "pred    5.553067\n",
      "Name: 30240, dtype: float64\n"
     ]
    }
   ],
   "source": [
    "print(lon_predicha_tr.loc[2365])\n",
    "print(\"-----\")\n",
    "print(lon_predicha_tr.loc[2572])\n",
    "print(\"-----\")\n",
    "print(lon_predicha_tr.loc[3276])\n",
    "print(\"-----\")\n",
    "print(lon_predicha_tr.loc[23323])\n",
    "print(\"------\")\n",
    "print(lon_predicha_tr.loc[29257])\n",
    "print(\"--------\")\n",
    "print(lon_predicha_tr.loc[30240])\n",
    "#lo  mismo que con la profundidad y ancho."
   ]
  },
  {
   "cell_type": "code",
   "execution_count": 78,
   "metadata": {},
   "outputs": [
    {
     "data": {
      "text/plain": [
       "5.553067"
      ]
     },
     "execution_count": 78,
     "metadata": {},
     "output_type": "execute_result"
    }
   ],
   "source": [
    "insertar_valor(\"longitud mm\",30240,5.553067)"
   ]
  },
  {
   "cell_type": "code",
   "execution_count": 79,
   "metadata": {},
   "outputs": [
    {
     "data": {
      "text/html": [
       "<div>\n",
       "<style scoped>\n",
       "    .dataframe tbody tr th:only-of-type {\n",
       "        vertical-align: middle;\n",
       "    }\n",
       "\n",
       "    .dataframe tbody tr th {\n",
       "        vertical-align: top;\n",
       "    }\n",
       "\n",
       "    .dataframe thead th {\n",
       "        text-align: right;\n",
       "    }\n",
       "</style>\n",
       "<table border=\"1\" class=\"dataframe\">\n",
       "  <thead>\n",
       "    <tr style=\"text-align: right;\">\n",
       "      <th></th>\n",
       "      <th>quilates</th>\n",
       "      <th>porcentaje profundidad</th>\n",
       "      <th>ancho superior</th>\n",
       "      <th>longitud mm</th>\n",
       "      <th>ancho mm</th>\n",
       "      <th>profundidad mm</th>\n",
       "      <th>price</th>\n",
       "    </tr>\n",
       "  </thead>\n",
       "  <tbody>\n",
       "  </tbody>\n",
       "</table>\n",
       "</div>"
      ],
      "text/plain": [
       "Empty DataFrame\n",
       "Columns: [quilates, porcentaje profundidad, ancho superior, longitud mm, ancho mm, profundidad mm, price]\n",
       "Index: []"
      ]
     },
     "execution_count": 79,
     "metadata": {},
     "output_type": "execute_result"
    }
   ],
   "source": [
    "ceros_longitud = train[train[\"longitud mm\"]==0]\n",
    "ceros_longitud #vemos que ya no hay valores de 0."
   ]
  },
  {
   "cell_type": "markdown",
   "metadata": {},
   "source": [
    "**ahora vamos a evaluar la correlacion entre las variables independientes, ya que no nos conviene que tengan mas de un 0.9\n",
    "por ciento de correlacion entre ellas porque influiria en nuestras predicciones**"
   ]
  },
  {
   "cell_type": "code",
   "execution_count": 83,
   "metadata": {},
   "outputs": [],
   "source": [
    "heat = train.corr()"
   ]
  },
  {
   "cell_type": "code",
   "execution_count": 84,
   "metadata": {},
   "outputs": [
    {
     "data": {
      "image/png": "[encoded data removed]",
      "text/plain": [
       "<Figure size 432x288 with 2 Axes>"
      ]
     },
     "metadata": {
      "needs_background": "light"
     },
     "output_type": "display_data"
    }
   ],
   "source": [
    "heat_map = sns.heatmap(heat, annot=True)"
   ]
  },
  {
   "cell_type": "markdown",
   "metadata": {},
   "source": [
    "profundidad mm tiene un correlacion muy fuerte con longitud , quilates y ancho. La vamos a eliminar, tambien debemos hacerlo con la columna de ancho"
   ]
  },
  {
   "cell_type": "code",
   "execution_count": 93,
   "metadata": {},
   "outputs": [],
   "source": [
    "#train.drop(\"profundidad mm\",axis=1,inplace=True)"
   ]
  },
  {
   "cell_type": "code",
   "execution_count": 87,
   "metadata": {},
   "outputs": [],
   "source": [
    "heat1 = train.corr()"
   ]
  },
  {
   "cell_type": "code",
   "execution_count": 88,
   "metadata": {},
   "outputs": [
    {
     "data": {
      "image/png": "[encoded data removed]",
      "text/plain": [
       "<Figure size 432x288 with 2 Axes>"
      ]
     },
     "metadata": {
      "needs_background": "light"
     },
     "output_type": "display_data"
    }
   ],
   "source": [
    "heat_map = sns.heatmap(heat1, annot=True)"
   ]
  },
  {
   "cell_type": "code",
   "execution_count": 94,
   "metadata": {},
   "outputs": [],
   "source": [
    "train.drop(\"ancho mm\",axis=1,inplace=True)"
   ]
  },
  {
   "cell_type": "code",
   "execution_count": 96,
   "metadata": {},
   "outputs": [
    {
     "data": {
      "text/plain": [
       "<matplotlib.axes._subplots.AxesSubplot at 0x17a9dddb910>"
      ]
     },
     "execution_count": 96,
     "metadata": {},
     "output_type": "execute_result"
    },
    {
     "data": {
      "image/png": "[encoded data removed]",
      "text/plain": [
       "<Figure size 432x288 with 2 Axes>"
      ]
     },
     "metadata": {
      "needs_background": "light"
     },
     "output_type": "display_data"
    }
   ],
   "source": [
    "sns.heatmap(train.corr(),annot=True)"
   ]
  },
  {
   "cell_type": "markdown",
   "metadata": {},
   "source": [
    "que se correlaciona mucho con la variable quilates, vamos a borrar la longitud tambien"
   ]
  },
  {
   "cell_type": "code",
   "execution_count": 98,
   "metadata": {},
   "outputs": [],
   "source": [
    "train.drop(\"longitud mm\",axis=1,inplace=True)"
   ]
  },
  {
   "cell_type": "code",
   "execution_count": 99,
   "metadata": {},
   "outputs": [
    {
     "data": {
      "text/plain": [
       "<matplotlib.axes._subplots.AxesSubplot at 0x17a9df49d90>"
      ]
     },
     "execution_count": 99,
     "metadata": {},
     "output_type": "execute_result"
    },
    {
     "data": {
      "image/png": "[encoded data removed]",
      "text/plain": [
       "<Figure size 432x288 with 2 Axes>"
      ]
     },
     "metadata": {
      "needs_background": "light"
     },
     "output_type": "display_data"
    }
   ],
   "source": [
    "sns.heatmap(train.corr(),annot=True)"
   ]
  },
  {
   "cell_type": "markdown",
   "metadata": {},
   "source": [
    "**YA NO TENEMOS VARIABLES CORRELACIONADAS ENTRE SI QUE PUEDAN AFECTAR A LA PREDICCION DE NUESTRO MODELO. EXPORTEMOS EL TRAIN\n",
    "A UN ARCHIVO CSV PARA HACER LAS PREDICCIONES FINALES DEL MODELO.**"
   ]
  },
  {
   "cell_type": "code",
   "execution_count": 102,
   "metadata": {},
   "outputs": [],
   "source": [
    "train.to_csv (\".\\modelo_regresionLineal.csv\",index = False)"
   ]
  },
  {
   "cell_type": "code",
   "execution_count": null,
   "metadata": {},
   "outputs": [],
   "source": []
  }
 ],
 "metadata": {
  "kernelspec": {
   "display_name": "Python 3",
   "language": "python",
   "name": "python3"
  },
  "language_info": {
   "codemirror_mode": {
    "name": "ipython",
    "version": 3
   },
   "file_extension": ".py",
   "mimetype": "text/x-python",
   "name": "python",
   "nbconvert_exporter": "python",
   "pygments_lexer": "ipython3",
   "version": "3.8.3"
  }
 },
 "nbformat": 4,
 "nbformat_minor": 4
}
